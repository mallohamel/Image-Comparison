{
 "cells": [
  {
   "cell_type": "code",
   "execution_count": 1,
   "metadata": {},
   "outputs": [
    {
     "name": "stderr",
     "output_type": "stream",
     "text": [
      "Using TensorFlow backend.\n"
     ]
    }
   ],
   "source": [
    "import numpy as np\n",
    "import os\n",
    "import cv2\n",
    "import tensorflow as tf\n",
    "import matplotlib.pyplot as plt\n",
    "import matplotlib.image as mpimg\n",
    "from numpy import genfromtxt\n",
    "from keras import backend as K\n",
    "K.set_image_data_format('channels_first')\n",
    "from keras.models import Model,Sequential\n",
    "from keras.layers import Conv2D, ZeroPadding2D, Activation, Input, concatenate\n",
    "from keras.layers.normalization import BatchNormalization\n",
    "from keras.layers.pooling import MaxPooling2D, AveragePooling2D\n",
    "from keras.layers.core import Lambda, Flatten, Dense\n"
   ]
  },
  {
   "cell_type": "code",
   "execution_count": 2,
   "metadata": {},
   "outputs": [],
   "source": [
    "def triplet_loss(y_true, y_pred, alpha = 0.2):\n",
    "    \"\"\"\n",
    "    Implementation of the triplet loss as defined by formula (3)\n",
    "    \n",
    "    Arguments:\n",
    "    y_true -- true labels, required when you define a loss in Keras, you don't need it in this function.\n",
    "    y_pred -- python list containing three objects:\n",
    "            anchor -- the encodings for the anchor images, of shape (None, 128)\n",
    "            positive -- the encodings for the positive images, of shape (None, 128)\n",
    "            negative -- the encodings for the negative images, of shape (None, 128)\n",
    "    \n",
    "    Returns:\n",
    "    loss -- real number, value of the loss\n",
    "    \"\"\"\n",
    "    print(\"Inside triplet loss\")\n",
    "    \n",
    "    anchor, positive, negative = y_pred[0], y_pred[1], y_pred[2]\n",
    "    print(anchor)\n",
    "    print(positive)\n",
    "    print(negative)\n",
    "    ### START CODE HERE ### (˜ 4 lines)\n",
    "    # Step 1: Compute the (encoding) distance between the anchor and the positive, you will need to sum over axis=-1\n",
    "    pos_dist = tf.reduce_sum(tf.square(tf.subtract(anchor,positive)),axis=-1)\n",
    "    # Step 2: Compute the (encoding) distance between the anchor and the negative, you will need to sum over axis=-1\n",
    "    neg_dist = tf.reduce_sum(tf.square(tf.subtract(anchor,negative)),axis=-1)\n",
    "    # Step 3: subtract the two previous distances and add alpha.\n",
    "    basic_loss = tf.add(tf.subtract(pos_dist,neg_dist),alpha)\n",
    "    # Step 4: Take the maximum of basic_loss and 0.0. Sum over the training examples.\n",
    "    loss = tf.reduce_sum(tf.maximum(basic_loss, 0.0))\n",
    "    ### END CODE HERE ###\n",
    "    \n",
    "    print(\"Entering the function\")\n",
    "    return loss\n"
   ]
  },
  {
   "cell_type": "code",
   "execution_count": 3,
   "metadata": {},
   "outputs": [],
   "source": [
    "def faceRecoModel(input_shape):\n",
    "    \"\"\"\n",
    "    Implementation of the Inception model used for FaceNet\n",
    "    \n",
    "    Arguments:\n",
    "    input_shape -- shape of the images of the dataset\n",
    "    Returns:\n",
    "    model -- a Model() instance in Keras\n",
    "    \"\"\"\n",
    "        \n",
    "    # Define the input as a tensor with shape input_shape\n",
    "    X_input = Input(input_shape)\n",
    "\n",
    "    # Zero-Padding\n",
    "    X = ZeroPadding2D((3, 3))(X_input)\n",
    "    \n",
    "    # First Block\n",
    "    X = Conv2D(64, (7, 7), strides = (2, 2), name = 'conv1')(X)\n",
    "    X = BatchNormalization(axis = 1, name = 'bn1')(X)\n",
    "    X = Activation('relu')(X)\n",
    "    \n",
    "    # Zero-Padding + MAXPOOL\n",
    "    X = ZeroPadding2D((1, 1))(X)\n",
    "    X = MaxPooling2D((3, 3), strides = 2)(X)\n",
    "    \n",
    "    # Second Block\n",
    "    X = Conv2D(64, (1, 1), strides = (1, 1), name = 'conv2')(X)\n",
    "    X = BatchNormalization(axis = 1, epsilon=0.00001, name = 'bn2')(X)\n",
    "    X = Activation('relu')(X)\n",
    "    \n",
    "    # Zero-Padding + MAXPOOL\n",
    "    X = ZeroPadding2D((1, 1))(X)\n",
    "\n",
    "    # Second Block\n",
    "    X = Conv2D(192, (3, 3), strides = (1, 1), name = 'conv3')(X)\n",
    "    X = BatchNormalization(axis = 1, epsilon=0.00001, name = 'bn3')(X)\n",
    "    X = Activation('relu')(X)\n",
    "    \n",
    "    # Zero-Padding + MAXPOOL\n",
    "    X = ZeroPadding2D((1, 1))(X)\n",
    "    \n",
    "    X = MaxPooling2D(pool_size = 3, strides = 2)(X)\n",
    "    \n",
    "    X = AveragePooling2D(pool_size=(3, 3), strides=(1, 1), data_format='channels_first')(X)\n",
    "    X = Flatten()(X)\n",
    "    X = Dense(128, name='dense_layer')(X)\n",
    "    \n",
    "    # L2 normalization\n",
    "    X = Lambda(lambda  x: K.l2_normalize(x,axis=1))(X)\n",
    "    \n",
    "             \n",
    "    # Create model instance\n",
    "    model = Model(inputs = X_input, outputs = X, name='FaceRecoModel')\n",
    "        \n",
    "    return model"
   ]
  },
  {
   "cell_type": "code",
   "execution_count": 4,
   "metadata": {},
   "outputs": [],
   "source": [
    "_FLOATX = 'float32'\n",
    "def variable(value, dtype=_FLOATX, name=None):\n",
    "    v = tf.Variable(np.asarray(value, dtype=dtype), name=name)\n",
    "    _get_session().run(v.initializer)\n",
    "    return v\n",
    "\n",
    "def shape(x):\n",
    "    return x.get_shape()\n",
    "\n",
    "def square(x):\n",
    "    return tf.square(x)\n",
    "\n",
    "def zeros(shape, dtype=_FLOATX, name=None):\n",
    "    return variable(np.zeros(shape), dtype, name)\n",
    "\n",
    "def concatenate(tensors, axis=-1):\n",
    "    if axis < 0:\n",
    "        axis = axis % len(tensors[0].get_shape())\n",
    "    return tf.concat(axis, tensors)\n",
    "\n",
    "def LRN2D(x):\n",
    "    return tf.nn.lrn(x, alpha=1e-4, beta=0.75)\n",
    "\n",
    "def conv2d_bn(x,\n",
    "              layer=None,\n",
    "              cv1_out=None,\n",
    "              cv1_filter=(1, 1),\n",
    "              cv1_strides=(1, 1),\n",
    "              cv2_out=None,\n",
    "              cv2_filter=(3, 3),\n",
    "              cv2_strides=(1, 1),\n",
    "              padding=None):\n",
    "    num = '' if cv2_out == None else '1'\n",
    "    tensor = Conv2D(cv1_out, cv1_filter, strides=cv1_strides, data_format='channels_first', name=layer+'_conv'+num)(x)\n",
    "    tensor = BatchNormalization(axis=1, epsilon=0.00001, name=layer+'_bn'+num)(tensor)\n",
    "    tensor = Activation('relu')(tensor)\n",
    "    if padding == None:\n",
    "        return tensor\n",
    "    tensor = ZeroPadding2D(padding=padding, data_format='channels_first')(tensor)\n",
    "    if cv2_out == None:\n",
    "        return tensor\n",
    "    tensor = Conv2D(cv2_out, cv2_filter, strides=cv2_strides, data_format='channels_first', name=layer+'_conv'+'2')(tensor)\n",
    "    tensor = BatchNormalization(axis=1, epsilon=0.00001, name=layer+'_bn'+'2')(tensor)\n",
    "    tensor = Activation('relu')(tensor)\n",
    "    return tensor\n",
    "\n",
    "WEIGHTS_mod = [\n",
    "  'conv1', 'bn1', 'conv2', 'bn2', 'conv3', 'bn3'\n",
    "]\n",
    "conv_shape = {\n",
    "  'conv1': [64, 3, 7, 7],\n",
    "  'conv2': [64, 64, 1, 1],\n",
    "  'conv3': [192, 64, 3, 3]\n",
    "}\n",
    "\n",
    "def load_weights_from_FaceNet(FRmodel):\n",
    "    # Load weights from csv files (which was exported from Openface torch model)\n",
    "    weights = WEIGHTS_mod\n",
    "    weights_dict = load_weights()\n",
    "\n",
    "    # Set layer weights of the model\n",
    "    for name in weights:\n",
    "        if FRmodel.get_layer(name) != None:\n",
    "            FRmodel.get_layer(name).set_weights(weights_dict[name])\n",
    "        elif model.get_layer(name) != None:\n",
    "            model.get_layer(name).set_weights(weights_dict[name])\n",
    "\n",
    "def load_weights():\n",
    "    # Set weights path\n",
    "    dirPath = './weights'\n",
    "    fileNames = filter(lambda f: not f.startswith('.'), os.listdir(dirPath))\n",
    "    paths = {}\n",
    "    weights_dict = {}\n",
    "\n",
    "    for n in fileNames:\n",
    "        paths[n.replace('.csv', '')] = dirPath + '/' + n\n",
    "\n",
    "    for name in WEIGHTS_mod:\n",
    "        if 'conv' in name:\n",
    "            conv_w = genfromtxt(paths[name + '_w'], delimiter=',', dtype=None)\n",
    "            conv_w = np.reshape(conv_w, conv_shape[name])\n",
    "            conv_w = np.transpose(conv_w, (2, 3, 1, 0))\n",
    "            conv_b = genfromtxt(paths[name + '_b'], delimiter=',', dtype=None)\n",
    "            weights_dict[name] = [conv_w, conv_b]     \n",
    "        elif 'bn' in name:\n",
    "            bn_w = genfromtxt(paths[name + '_w'], delimiter=',', dtype=None)\n",
    "            bn_b = genfromtxt(paths[name + '_b'], delimiter=',', dtype=None)\n",
    "            bn_m = genfromtxt(paths[name + '_m'], delimiter=',', dtype=None)\n",
    "            bn_v = genfromtxt(paths[name + '_v'], delimiter=',', dtype=None)\n",
    "            weights_dict[name] = [bn_w, bn_b, bn_m, bn_v]\n",
    "        elif 'dense' in name:\n",
    "            dense_w = genfromtxt(dirPath+'/dense_w.csv', delimiter=',', dtype=None)\n",
    "            dense_w = np.reshape(dense_w, (128, 736))\n",
    "            dense_w = np.transpose(dense_w, (1, 0))\n",
    "            dense_b = genfromtxt(dirPath+'/dense_b.csv', delimiter=',', dtype=None)\n",
    "            weights_dict[name] = [dense_w, dense_b]\n",
    "\n",
    "    return weights_dict\n",
    "\n",
    "def img_to_encoding(image_path, model):\n",
    "    img1 = cv2.imread(image_path, 1)\n",
    "    img = img1[...,::-1]\n",
    "    img = np.around(np.transpose(img, (2,0,1))/255.0, decimals=12)\n",
    "    x_train = np.array([img])\n",
    "    embedding = model.predict_on_batch(x_train)\n",
    "    flat_input=embedding.flatten()\n",
    "    return embedding\n"
   ]
  },
  {
   "cell_type": "code",
   "execution_count": 5,
   "metadata": {},
   "outputs": [
    {
     "name": "stdout",
     "output_type": "stream",
     "text": [
      "Inside triplet loss\n",
      "Tensor(\"loss/lambda_1_loss/strided_slice:0\", shape=(128,), dtype=float32)\n",
      "Tensor(\"loss/lambda_1_loss/strided_slice_1:0\", shape=(128,), dtype=float32)\n",
      "Tensor(\"loss/lambda_1_loss/strided_slice_2:0\", shape=(128,), dtype=float32)\n",
      "Entering the function\n"
     ]
    }
   ],
   "source": [
    "\n",
    "FRmodel = faceRecoModel(input_shape=(3, 350, 350))\n",
    "FRmodel.compile(optimizer = 'adam', loss = triplet_loss, metrics = ['accuracy'])\n",
    "load_weights_from_FaceNet(FRmodel)"
   ]
  },
  {
   "cell_type": "code",
   "execution_count": 6,
   "metadata": {},
   "outputs": [],
   "source": [
    " def show_images(image_path_original,image_path_check):\n",
    "    \n",
    "    imageA=mpimg.imread(image_path_original)\n",
    "    imageB=mpimg.imread(image_path_check)\n",
    "    fig = plt.figure(\"Comparison\")\n",
    " \n",
    "    # show first image\n",
    "    ax = fig.add_subplot(1, 2, 1)\n",
    "    plt.imshow(imageA, cmap = plt.cm.gray)\n",
    "    plt.axis(\"off\")\n",
    " \n",
    "    # show the second image\n",
    "    ax = fig.add_subplot(1, 2, 2)\n",
    "    plt.imshow(imageB, cmap = plt.cm.gray)\n",
    "    plt.axis(\"off\")\n",
    " \n",
    "    # show the images\n",
    "    plt.show()"
   ]
  },
  {
   "cell_type": "code",
   "execution_count": 7,
   "metadata": {},
   "outputs": [],
   "source": [
    "def verify(image_path_original, image_path_check, model): \n",
    "    \n",
    "    encoding_original = img_to_encoding(image_path_original,model)\n",
    "    encoding_check = img_to_encoding(image_path_check,model)\n",
    "    \n",
    "    dist = np.linalg.norm(encoding_original-encoding_check)\n",
    "    dist = dist/256\n",
    "    # setup the figure\n",
    "    \n",
    "    show_images(image_path_original,image_path_check)\n",
    "    print (\"Distance is \" , dist)\n",
    "    if dist < 1:\n",
    "        print(\"It's similar\")          \n",
    "    else:\n",
    "        print(\"It's not similar\")\n",
    "    "
   ]
  },
  {
   "cell_type": "code",
   "execution_count": 8,
   "metadata": {},
   "outputs": [],
   "source": [
    "\n",
    "def verify_ml_approach(image_path_original,image_path_check):\n",
    "    verify(image_path_original, image_path_check, FRmodel)\n",
    "    \n",
    "  "
   ]
  },
  {
   "cell_type": "code",
   "execution_count": 11,
   "metadata": {
    "scrolled": false
   },
   "outputs": [],
   "source": [
    "def load_train_data():\n",
    "    dataset = np.genfromtxt(\"data.csv\", dtype=\"U\" ,delimiter=\",\" )\n",
    "    X = dataset[:,0:2]\n",
    "    Y = dataset[:,2]\n",
    "    Y= [int(i) for i in Y]\n",
    "    m=len(Y)\n",
    "    return X,Y,m\n"
   ]
  },
  {
   "cell_type": "code",
   "execution_count": 12,
   "metadata": {},
   "outputs": [],
   "source": [
    "def getimagePath(name):\n",
    "    return('images/'+str(name)+'.png')"
   ]
  },
  {
   "cell_type": "code",
   "execution_count": 13,
   "metadata": {},
   "outputs": [],
   "source": [
    "def getSimpleModel():\n",
    "    inputs=Input(shape=(128,))\n",
    "    # a layer instance is callable on a tensor, and returns a tensor\n",
    "    x = Dense(64, activation='relu')(inputs)\n",
    "    x = Dense(64, activation='relu')(x)\n",
    "    predictions = Dense(11, activation='softmax')(x)\n",
    "\n",
    "    # This creates a model that includes\n",
    "    # the Input layer and three Dense layers\n",
    "    model = Model(inputs=inputs, outputs=predictions)\n",
    "    return model"
   ]
  },
  {
   "cell_type": "code",
   "execution_count": 14,
   "metadata": {},
   "outputs": [],
   "source": [
    "def getSeqModel():\n",
    "    model = Sequential()\n",
    "    model.add(Dense(64, activation='relu'))\n",
    "    model.add(Dense(11, activation='softmax'))\n",
    "    return model"
   ]
  },
  {
   "cell_type": "code",
   "execution_count": 15,
   "metadata": {},
   "outputs": [],
   "source": [
    "def prepare_train_data(X,Y,m,classes=11):\n",
    "    dat=np.zeros((1,128))\n",
    "    data=np.zeros((m,128))\n",
    "    labels=np.zeros((m,classes))\n",
    "    row=0\n",
    "    for [ori,chk] in X:\n",
    "        ori_encoding=img_to_encoding(getimagePath(ori), FRmodel)\n",
    "        chk_encoding=img_to_encoding(getimagePath(chk), FRmodel)\n",
    "        dat=(ori_encoding-chk_encoding)\n",
    "        data[row,:]=dat\n",
    "        labels[row,Y[row]]=1\n",
    "        row=row+1  \n",
    "    return data,labels"
   ]
  },
  {
   "cell_type": "code",
   "execution_count": 26,
   "metadata": {},
   "outputs": [],
   "source": [
    "def train_2nd_model():\n",
    "    X,Y,m=load_train_data()\n",
    "    data,labels=prepare_train_data(X,Y,m)\n",
    "\n",
    "    Smodel=getSimpleModel()\n",
    "    Smodel.compile(optimizer='rmsprop',\n",
    "                  loss='categorical_crossentropy',\n",
    "                  metrics=['accuracy'])\n",
    "    Smodel.fit(data,labels,epochs=100 )  # starts training\n",
    "    score = Smodel.evaluate(data,labels)\n",
    "    return Smodel\n",
    "    "
   ]
  },
  {
   "cell_type": "code",
   "execution_count": 27,
   "metadata": {},
   "outputs": [
    {
     "name": "stdout",
     "output_type": "stream",
     "text": [
      "Epoch 1/100\n",
      "22/22 [==============================] - 1s 24ms/step - loss: 2.3739 - acc: 0.4091\n",
      "Epoch 2/100\n",
      "22/22 [==============================] - 0s 716us/step - loss: 2.3307 - acc: 0.6364\n",
      "Epoch 3/100\n",
      "22/22 [==============================] - 0s 0us/step - loss: 2.2957 - acc: 0.6364\n",
      "Epoch 4/100\n",
      "22/22 [==============================] - 0s 0us/step - loss: 2.2622 - acc: 0.6364\n",
      "Epoch 5/100\n",
      "22/22 [==============================] - 0s 823us/step - loss: 2.2288 - acc: 0.6364\n",
      "Epoch 6/100\n",
      "22/22 [==============================] - 0s 259us/step - loss: 2.1939 - acc: 0.6364\n",
      "Epoch 7/100\n",
      "22/22 [==============================] - 0s 91us/step - loss: 2.1595 - acc: 0.6364\n",
      "Epoch 8/100\n",
      "22/22 [==============================] - 0s 215us/step - loss: 2.1244 - acc: 0.6364\n",
      "Epoch 9/100\n",
      "22/22 [==============================] - 0s 181us/step - loss: 2.0887 - acc: 0.6364\n",
      "Epoch 10/100\n",
      "22/22 [==============================] - 0s 218us/step - loss: 2.0517 - acc: 0.6364\n",
      "Epoch 11/100\n",
      "22/22 [==============================] - 0s 45us/step - loss: 2.0137 - acc: 0.6364\n",
      "Epoch 12/100\n",
      "22/22 [==============================] - 0s 244us/step - loss: 1.9744 - acc: 0.6364\n",
      "Epoch 13/100\n",
      "22/22 [==============================] - 0s 333us/step - loss: 1.9339 - acc: 0.6364\n",
      "Epoch 14/100\n",
      "22/22 [==============================] - 0s 0us/step - loss: 1.8924 - acc: 0.6364\n",
      "Epoch 15/100\n",
      "22/22 [==============================] - 0s 0us/step - loss: 1.8505 - acc: 0.6364\n",
      "Epoch 16/100\n",
      "22/22 [==============================] - 0s 694us/step - loss: 1.8086 - acc: 0.6364\n",
      "Epoch 17/100\n",
      "22/22 [==============================] - 0s 0us/step - loss: 1.7666 - acc: 0.6364\n",
      "Epoch 18/100\n",
      "22/22 [==============================] - 0s 0us/step - loss: 1.7248 - acc: 0.6364\n",
      "Epoch 19/100\n",
      "22/22 [==============================] - 0s 303us/step - loss: 1.6830 - acc: 0.6364\n",
      "Epoch 20/100\n",
      "22/22 [==============================] - 0s 401us/step - loss: 1.6419 - acc: 0.6364\n",
      "Epoch 21/100\n",
      "22/22 [==============================] - 0s 0us/step - loss: 1.6012 - acc: 0.6364\n",
      "Epoch 22/100\n",
      "22/22 [==============================] - 0s 45us/step - loss: 1.5618 - acc: 0.6364\n",
      "Epoch 23/100\n",
      "22/22 [==============================] - 0s 0us/step - loss: 1.5235 - acc: 0.6364\n",
      "Epoch 24/100\n",
      "22/22 [==============================] - 0s 246us/step - loss: 1.4872 - acc: 0.6364\n",
      "Epoch 25/100\n",
      "22/22 [==============================] - 0s 68us/step - loss: 1.4528 - acc: 0.6364\n",
      "Epoch 26/100\n",
      "22/22 [==============================] - 0s 224us/step - loss: 1.4201 - acc: 0.6364\n",
      "Epoch 27/100\n",
      "22/22 [==============================] - 0s 45us/step - loss: 1.3892 - acc: 0.6364\n",
      "Epoch 28/100\n",
      "22/22 [==============================] - 0s 172us/step - loss: 1.3603 - acc: 0.6364\n",
      "Epoch 29/100\n",
      "22/22 [==============================] - 0s 177us/step - loss: 1.3329 - acc: 0.6364\n",
      "Epoch 30/100\n",
      "22/22 [==============================] - 0s 218us/step - loss: 1.3075 - acc: 0.6364\n",
      "Epoch 31/100\n",
      "22/22 [==============================] - 0s 123us/step - loss: 1.2836 - acc: 0.6364\n",
      "Epoch 32/100\n",
      "22/22 [==============================] - 0s 956us/step - loss: 1.2613 - acc: 0.6364\n",
      "Epoch 33/100\n",
      "22/22 [==============================] - 0s 417us/step - loss: 1.2405 - acc: 0.6364\n",
      "Epoch 34/100\n",
      "22/22 [==============================] - 0s 372us/step - loss: 1.2211 - acc: 0.6364\n",
      "Epoch 35/100\n",
      "22/22 [==============================] - 0s 449us/step - loss: 1.2025 - acc: 0.6364\n",
      "Epoch 36/100\n",
      "22/22 [==============================] - 0s 445us/step - loss: 1.1852 - acc: 0.6364\n",
      "Epoch 37/100\n",
      "22/22 [==============================] - 0s 354us/step - loss: 1.1687 - acc: 0.6364\n",
      "Epoch 38/100\n",
      "22/22 [==============================] - 0s 184us/step - loss: 1.1530 - acc: 0.6364\n",
      "Epoch 39/100\n",
      "22/22 [==============================] - 0s 133us/step - loss: 1.1382 - acc: 0.6364\n",
      "Epoch 40/100\n",
      "22/22 [==============================] - 0s 273us/step - loss: 1.1240 - acc: 0.6364\n",
      "Epoch 41/100\n",
      "22/22 [==============================] - 0s 190us/step - loss: 1.1104 - acc: 0.6364\n",
      "Epoch 42/100\n",
      "22/22 [==============================] - 0s 134us/step - loss: 1.0973 - acc: 0.6364\n",
      "Epoch 43/100\n",
      "22/22 [==============================] - 0s 174us/step - loss: 1.0845 - acc: 0.6364\n",
      "Epoch 44/100\n",
      "22/22 [==============================] - 0s 142us/step - loss: 1.0719 - acc: 0.6364\n",
      "Epoch 45/100\n",
      "22/22 [==============================] - 0s 185us/step - loss: 1.0595 - acc: 0.6364\n",
      "Epoch 46/100\n",
      "22/22 [==============================] - 0s 132us/step - loss: 1.0473 - acc: 0.6364\n",
      "Epoch 47/100\n",
      "22/22 [==============================] - 0s 0us/step - loss: 1.0353 - acc: 0.6364\n",
      "Epoch 48/100\n",
      "22/22 [==============================] - 0s 0us/step - loss: 1.0234 - acc: 0.6364\n",
      "Epoch 49/100\n",
      "22/22 [==============================] - 0s 0us/step - loss: 1.0116 - acc: 0.6364\n",
      "Epoch 50/100\n",
      "22/22 [==============================] - 0s 692us/step - loss: 1.0003 - acc: 0.6364\n",
      "Epoch 51/100\n",
      "22/22 [==============================] - 0s 147us/step - loss: 0.9890 - acc: 0.6364\n",
      "Epoch 52/100\n",
      "22/22 [==============================] - 0s 585us/step - loss: 0.9774 - acc: 0.6364\n",
      "Epoch 53/100\n",
      "22/22 [==============================] - 0s 227us/step - loss: 0.9661 - acc: 0.6364\n",
      "Epoch 54/100\n",
      "22/22 [==============================] - 0s 140us/step - loss: 0.9552 - acc: 0.6364\n",
      "Epoch 55/100\n",
      "22/22 [==============================] - 0s 203us/step - loss: 0.9437 - acc: 0.6364\n",
      "Epoch 56/100\n",
      "22/22 [==============================] - 0s 182us/step - loss: 0.9326 - acc: 0.6364\n",
      "Epoch 57/100\n",
      "22/22 [==============================] - 0s 100us/step - loss: 0.9215 - acc: 0.6364\n",
      "Epoch 58/100\n",
      "22/22 [==============================] - 0s 211us/step - loss: 0.9104 - acc: 0.6364\n",
      "Epoch 59/100\n",
      "22/22 [==============================] - 0s 0us/step - loss: 0.8990 - acc: 0.6364\n",
      "Epoch 60/100\n",
      "22/22 [==============================] - 0s 0us/step - loss: 0.8880 - acc: 0.6364\n",
      "Epoch 61/100\n",
      "22/22 [==============================] - 0s 530us/step - loss: 0.8768 - acc: 0.6364\n",
      "Epoch 62/100\n",
      "22/22 [==============================] - 0s 0us/step - loss: 0.8657 - acc: 0.6364\n",
      "Epoch 63/100\n",
      "22/22 [==============================] - 0s 397us/step - loss: 0.8545 - acc: 0.6364\n",
      "Epoch 64/100\n",
      "22/22 [==============================] - 0s 219us/step - loss: 0.8432 - acc: 0.6364\n",
      "Epoch 65/100\n",
      "22/22 [==============================] - 0s 136us/step - loss: 0.8322 - acc: 0.6364\n",
      "Epoch 66/100\n",
      "22/22 [==============================] - 0s 266us/step - loss: 0.8207 - acc: 0.6364\n",
      "Epoch 67/100\n",
      "22/22 [==============================] - 0s 130us/step - loss: 0.8095 - acc: 0.6364\n",
      "Epoch 68/100\n",
      "22/22 [==============================] - 0s 0us/step - loss: 0.7979 - acc: 0.6364\n",
      "Epoch 69/100\n",
      "22/22 [==============================] - 0s 0us/step - loss: 0.7869 - acc: 0.6364\n",
      "Epoch 70/100\n",
      "22/22 [==============================] - 0s 782us/step - loss: 0.7752 - acc: 0.6364\n",
      "Epoch 71/100\n",
      "22/22 [==============================] - 0s 143us/step - loss: 0.7640 - acc: 0.6364\n",
      "Epoch 72/100\n",
      "22/22 [==============================] - 0s 164us/step - loss: 0.7526 - acc: 0.6364\n",
      "Epoch 73/100\n",
      "22/22 [==============================] - 0s 45us/step - loss: 0.7414 - acc: 0.6364\n",
      "Epoch 74/100\n",
      "22/22 [==============================] - 0s 0us/step - loss: 0.7301 - acc: 0.6364\n",
      "Epoch 75/100\n",
      "22/22 [==============================] - 0s 0us/step - loss: 0.7181 - acc: 0.6364\n",
      "Epoch 76/100\n",
      "22/22 [==============================] - 0s 649us/step - loss: 0.7065 - acc: 0.6364\n",
      "Epoch 77/100\n",
      "22/22 [==============================] - 0s 45us/step - loss: 0.6946 - acc: 0.6818\n",
      "Epoch 78/100\n",
      "22/22 [==============================] - 0s 0us/step - loss: 0.6827 - acc: 0.6818\n",
      "Epoch 79/100\n",
      "22/22 [==============================] - 0s 475us/step - loss: 0.6712 - acc: 0.6818\n",
      "Epoch 80/100\n",
      "22/22 [==============================] - 0s 306us/step - loss: 0.6598 - acc: 0.6818\n",
      "Epoch 81/100\n",
      "22/22 [==============================] - 0s 337us/step - loss: 0.6479 - acc: 0.6818\n",
      "Epoch 82/100\n",
      "22/22 [==============================] - 0s 233us/step - loss: 0.6365 - acc: 0.7727\n",
      "Epoch 83/100\n",
      "22/22 [==============================] - 0s 266us/step - loss: 0.6249 - acc: 0.7727\n",
      "Epoch 84/100\n",
      "22/22 [==============================] - 0s 91us/step - loss: 0.6135 - acc: 0.7727\n",
      "Epoch 85/100\n",
      "22/22 [==============================] - 0s 46us/step - loss: 0.6030 - acc: 0.7727\n",
      "Epoch 86/100\n",
      "22/22 [==============================] - 0s 0us/step - loss: 0.5914 - acc: 0.7727\n"
     ]
    },
    {
     "name": "stdout",
     "output_type": "stream",
     "text": [
      "Epoch 87/100\n",
      "22/22 [==============================] - 0s 281us/step - loss: 0.5813 - acc: 0.7727\n",
      "Epoch 88/100\n",
      "22/22 [==============================] - 0s 141us/step - loss: 0.5702 - acc: 0.8182\n",
      "Epoch 89/100\n",
      "22/22 [==============================] - 0s 191us/step - loss: 0.5597 - acc: 0.8182\n",
      "Epoch 90/100\n",
      "22/22 [==============================] - 0s 115us/step - loss: 0.5488 - acc: 0.8182\n",
      "Epoch 91/100\n",
      "22/22 [==============================] - 0s 179us/step - loss: 0.5384 - acc: 0.8182\n",
      "Epoch 92/100\n",
      "22/22 [==============================] - 0s 0us/step - loss: 0.5282 - acc: 0.8636\n",
      "Epoch 93/100\n",
      "22/22 [==============================] - 0s 349us/step - loss: 0.5181 - acc: 0.8182\n",
      "Epoch 94/100\n",
      "22/22 [==============================] - 0s 0us/step - loss: 0.5080 - acc: 0.8636\n",
      "Epoch 95/100\n",
      "22/22 [==============================] - 0s 398us/step - loss: 0.4974 - acc: 0.9091\n",
      "Epoch 96/100\n",
      "22/22 [==============================] - 0s 0us/step - loss: 0.4878 - acc: 0.9091\n",
      "Epoch 97/100\n",
      "22/22 [==============================] - 0s 534us/step - loss: 0.4774 - acc: 0.9091\n",
      "Epoch 98/100\n",
      "22/22 [==============================] - 0s 220us/step - loss: 0.4677 - acc: 0.9091\n",
      "Epoch 99/100\n",
      "22/22 [==============================] - 0s 85us/step - loss: 0.4583 - acc: 0.9091\n",
      "Epoch 100/100\n",
      "22/22 [==============================] - 0s 199us/step - loss: 0.4487 - acc: 0.9091\n",
      "22/22 [==============================] - 0s 6ms/step\n"
     ]
    }
   ],
   "source": [
    "Smodel=train_2nd_model()"
   ]
  },
  {
   "cell_type": "code",
   "execution_count": 28,
   "metadata": {},
   "outputs": [],
   "source": [
    " def predict(image_path_original,image_path_check,FRmodel,Smodel):\n",
    "    encoding_original = img_to_encoding(image_path_original,FRmodel)\n",
    "    encoding_check = img_to_encoding(image_path_check,FRmodel)\n",
    "    dat=encoding_original-encoding_check\n",
    "    \n",
    "    prediction = Smodel.predict_on_batch(dat)\n",
    "    return prediction"
   ]
  },
  {
   "cell_type": "code",
   "execution_count": 29,
   "metadata": {},
   "outputs": [],
   "source": [
    "def predict_2_models(image_path_original,image_path_check):\n",
    "    show_images(image_path_original,image_path_check)\n",
    "    print(\"Scoring...............................\")\n",
    "    prediction = predict(image_path_original, image_path_check, FRmodel,Smodel)\n",
    "    score = np.argmax(prediction)\n",
    "    print(\"Score of similarity is \", score)"
   ]
  },
  {
   "cell_type": "code",
   "execution_count": 30,
   "metadata": {},
   "outputs": [
    {
     "data": {
      "image/png": "[encoded data removed]",
      "text/plain": [
       "<Figure size 432x288 with 2 Axes>"
      ]
     },
     "metadata": {
      "needs_background": "light"
     },
     "output_type": "display_data"
    },
    {
     "name": "stdout",
     "output_type": "stream",
     "text": [
      "Distance is  0.0021836606319993734\n",
      "It's similar\n"
     ]
    },
    {
     "data": {
      "image/png": "[encoded data removed]",
      "text/plain": [
       "<Figure size 432x288 with 2 Axes>"
      ]
     },
     "metadata": {
      "needs_background": "light"
     },
     "output_type": "display_data"
    },
    {
     "name": "stdout",
     "output_type": "stream",
     "text": [
      "Scoring...............................\n",
      "Score of similarity is  2\n"
     ]
    }
   ],
   "source": [
    "verify_ml_approach(\"images/image2.png\", \"images/image1_modified.png\")\n",
    "predict_2_models(\"images/image2.png\", \"images/image1_modified.png\")"
   ]
  },
  {
   "cell_type": "code",
   "execution_count": 32,
   "metadata": {
    "scrolled": true
   },
   "outputs": [
    {
     "data": {
      "image/png": "[encoded data removed]",
      "text/plain": [
       "<Figure size 432x288 with 2 Axes>"
      ]
     },
     "metadata": {
      "needs_background": "light"
     },
     "output_type": "display_data"
    },
    {
     "name": "stdout",
     "output_type": "stream",
     "text": [
      "Distance is  0.0013810261152684689\n",
      "It's similar\n"
     ]
    },
    {
     "data": {
      "image/png": "[encoded data removed]",
      "text/plain": [
       "<Figure size 432x288 with 2 Axes>"
      ]
     },
     "metadata": {
      "needs_background": "light"
     },
     "output_type": "display_data"
    },
    {
     "name": "stdout",
     "output_type": "stream",
     "text": [
      "Scoring...............................\n",
      "Score of similarity is  8\n"
     ]
    }
   ],
   "source": [
    "verify_ml_approach(\"images/image1.png\", \"images/image1_modified1.png\")\n",
    "predict_2_models(\"images/image1.png\", \"images/image1_modified1.png\")"
   ]
  },
  {
   "cell_type": "code",
   "execution_count": 34,
   "metadata": {},
   "outputs": [
    {
     "data": {
      "image/png": "[encoded data removed]",
      "text/plain": [
       "<Figure size 432x288 with 2 Axes>"
      ]
     },
     "metadata": {
      "needs_background": "light"
     },
     "output_type": "display_data"
    },
    {
     "name": "stdout",
     "output_type": "stream",
     "text": [
      "Distance is  0.0019806751515716314\n",
      "It's similar\n"
     ]
    },
    {
     "data": {
      "image/png": "[encoded data removed]",
      "text/plain": [
       "<Figure size 432x288 with 2 Axes>"
      ]
     },
     "metadata": {
      "needs_background": "light"
     },
     "output_type": "display_data"
    },
    {
     "name": "stdout",
     "output_type": "stream",
     "text": [
      "Scoring...............................\n",
      "Score of similarity is  0\n"
     ]
    }
   ],
   "source": [
    "verify_ml_approach(\"images/image3.png\", \"images/image4.png\")\n",
    "predict_2_models(\"images/image3.png\", \"images/image4.png\")"
   ]
  },
  {
   "cell_type": "code",
   "execution_count": 35,
   "metadata": {},
   "outputs": [
    {
     "data": {
      "image/png": "[encoded data removed]",
      "text/plain": [
       "<Figure size 432x288 with 2 Axes>"
      ]
     },
     "metadata": {
      "needs_background": "light"
     },
     "output_type": "display_data"
    },
    {
     "name": "stdout",
     "output_type": "stream",
     "text": [
      "Distance is  0.0017940215766429901\n",
      "It's similar\n"
     ]
    },
    {
     "data": {
      "image/png": "[encoded data removed]",
      "text/plain": [
       "<Figure size 432x288 with 2 Axes>"
      ]
     },
     "metadata": {
      "needs_background": "light"
     },
     "output_type": "display_data"
    },
    {
     "name": "stdout",
     "output_type": "stream",
     "text": [
      "Scoring...............................\n",
      "Score of similarity is  0\n"
     ]
    }
   ],
   "source": [
    "verify_ml_approach(\"images/image1.png\", \"images/image1_modified.png\")\n",
    "predict_2_models(\"images/image1.png\", \"images/image1_modified.png\")"
   ]
  },
  {
   "cell_type": "code",
   "execution_count": null,
   "metadata": {},
   "outputs": [],
   "source": []
  }
 ],
 "metadata": {
  "kernelspec": {
   "display_name": "Python (tensorflow)",
   "language": "python",
   "name": "myenv"
  },
  "language_info": {
   "codemirror_mode": {
    "name": "ipython",
    "version": 3
   },
   "file_extension": ".py",
   "mimetype": "text/x-python",
   "name": "python",
   "nbconvert_exporter": "python",
   "pygments_lexer": "ipython3",
   "version": "3.6.8"
  }
 },
 "nbformat": 4,
 "nbformat_minor": 2
}
